{
  "nbformat": 4,
  "nbformat_minor": 0,
  "metadata": {
    "colab": {
      "provenance": [],
      "authorship_tag": "ABX9TyMvOWm8QWH1lhhFtbtm7bcu",
      "include_colab_link": true
    },
    "kernelspec": {
      "name": "python3",
      "display_name": "Python 3"
    },
    "language_info": {
      "name": "python"
    }
  },
  "cells": [
    {
      "cell_type": "markdown",
      "metadata": {
        "id": "view-in-github",
        "colab_type": "text"
      },
      "source": [
        "<a href=\"https://colab.research.google.com/github/VitikaJain25/Kaggle-Learn/blob/main/IntroToProgramming.ipynb\" target=\"_parent\"><img src=\"https://colab.research.google.com/assets/colab-badge.svg\" alt=\"Open In Colab\"/></a>"
      ]
    },
    {
      "cell_type": "markdown",
      "source": [
        "# **1. Arithmetic and Variables**"
      ],
      "metadata": {
        "id": "N1zdb9sTvN2D"
      }
    },
    {
      "cell_type": "markdown",
      "source": [
        "**Printing**"
      ],
      "metadata": {
        "id": "QFowB8cyA7WC"
      }
    },
    {
      "cell_type": "code",
      "execution_count": null,
      "metadata": {
        "colab": {
          "base_uri": "https://localhost:8080/"
        },
        "id": "oUVxijXFuyH-",
        "outputId": "062ce6fd-a09c-48ce-b555-8f5c8c7d1146"
      },
      "outputs": [
        {
          "output_type": "stream",
          "name": "stdout",
          "text": [
            "Hello, World..!!\n"
          ]
        }
      ],
      "source": [
        "print(\"Hello, World..!!\")"
      ]
    },
    {
      "cell_type": "markdown",
      "source": [
        "**Arithmetic**"
      ],
      "metadata": {
        "id": "722wEf--BID6"
      }
    },
    {
      "cell_type": "code",
      "source": [
        "print(1+2)"
      ],
      "metadata": {
        "colab": {
          "base_uri": "https://localhost:8080/"
        },
        "id": "nQFjP6yLBJbI",
        "outputId": "346228d7-9c78-4fa4-d0d3-96932738f213"
      },
      "execution_count": null,
      "outputs": [
        {
          "output_type": "stream",
          "name": "stdout",
          "text": [
            "3\n"
          ]
        }
      ]
    },
    {
      "cell_type": "code",
      "source": [
        "print(((1 + 3) * (9 - 2) / 2) ** 2)"
      ],
      "metadata": {
        "colab": {
          "base_uri": "https://localhost:8080/"
        },
        "id": "sJ-KkSpiBTfO",
        "outputId": "da256616-6756-42e0-9681-5840a1b70136"
      },
      "execution_count": null,
      "outputs": [
        {
          "output_type": "stream",
          "name": "stdout",
          "text": [
            "196.0\n"
          ]
        }
      ]
    },
    {
      "cell_type": "markdown",
      "source": [
        "**Comments**"
      ],
      "metadata": {
        "id": "d72PdQeABWy4"
      }
    },
    {
      "cell_type": "code",
      "source": [
        "# Multiply 3 by 2\n",
        "print(3 * 2)"
      ],
      "metadata": {
        "colab": {
          "base_uri": "https://localhost:8080/"
        },
        "id": "vwcFdyGIBXsN",
        "outputId": "937cdb39-ba42-4729-9305-44573c1ff941"
      },
      "execution_count": null,
      "outputs": [
        {
          "output_type": "stream",
          "name": "stdout",
          "text": [
            "6\n"
          ]
        }
      ]
    },
    {
      "cell_type": "markdown",
      "source": [
        "**Variables**\n",
        "Variable names are ideally short and descriptive. They also need to satisfy several requirements:\n",
        "\n",
        "*   They can't have spaces (e.g., test var is not allowed)\n",
        "*   They can only include letters, numbers, and underscores (e.g., test_var! is not allowed)\n",
        "*   They have to start with a letter or underscore (e.g., 1_var is not allowed)\n",
        "\n",
        "\n",
        "\n",
        "\n"
      ],
      "metadata": {
        "id": "vV_w7k-SBhXR"
      }
    },
    {
      "cell_type": "code",
      "source": [
        "# Create a variable called test_var and give it a value of 4+5\n",
        "test_var = 4 + 5\n",
        "\n",
        "# Print the value of test_var\n",
        "print(test_var)"
      ],
      "metadata": {
        "colab": {
          "base_uri": "https://localhost:8080/"
        },
        "id": "-c29PwoUBh_6",
        "outputId": "fa4f6f55-cc77-4f7e-ebb2-e8c729d041d9"
      },
      "execution_count": null,
      "outputs": [
        {
          "output_type": "stream",
          "name": "stdout",
          "text": [
            "9\n"
          ]
        }
      ]
    },
    {
      "cell_type": "markdown",
      "source": [
        "**Manipulating variables**"
      ],
      "metadata": {
        "id": "_Cr6zVKrCZik"
      }
    },
    {
      "cell_type": "code",
      "source": [
        "# Set the value of a new variable to 3\n",
        "new_var = 3\n",
        "\n",
        "# Print the value assigned to my_var\n",
        "print(new_var)\n",
        "\n",
        "# Change the value of the variable to 100\n",
        "new_var = 100\n",
        "\n",
        "# Print the new value assigned to my_var\n",
        "print(new_var)"
      ],
      "metadata": {
        "colab": {
          "base_uri": "https://localhost:8080/"
        },
        "id": "aL9xGFv9CcAB",
        "outputId": "0a925ec7-e355-44e2-a7e3-b31fd4de723d"
      },
      "execution_count": null,
      "outputs": [
        {
          "output_type": "stream",
          "name": "stdout",
          "text": [
            "3\n",
            "100\n"
          ]
        }
      ]
    },
    {
      "cell_type": "code",
      "source": [
        "# Increase the value by 3\n",
        "new_var = new_var + 3\n",
        "\n",
        "# Print the value assigned to my_var\n",
        "print(new_var)"
      ],
      "metadata": {
        "colab": {
          "base_uri": "https://localhost:8080/"
        },
        "id": "muzK0pe3DV5F",
        "outputId": "a09d4104-58e6-4cfb-dad8-7d6ae7cb80c2"
      },
      "execution_count": null,
      "outputs": [
        {
          "output_type": "stream",
          "name": "stdout",
          "text": [
            "103\n"
          ]
        }
      ]
    },
    {
      "cell_type": "markdown",
      "source": [
        "**Using multiple variables**"
      ],
      "metadata": {
        "id": "XpR1e9csDbaS"
      }
    },
    {
      "cell_type": "code",
      "source": [
        "# Create variables\n",
        "num_years = 4\n",
        "days_per_year = 365 \n",
        "hours_per_day = 24\n",
        "mins_per_hour = 60\n",
        "secs_per_min = 60\n",
        "\n",
        "# Calculate number of seconds in four years\n",
        "total_secs = secs_per_min * mins_per_hour * hours_per_day * days_per_year * num_years\n",
        "print(total_secs)"
      ],
      "metadata": {
        "colab": {
          "base_uri": "https://localhost:8080/"
        },
        "id": "sCj08LoWDcqP",
        "outputId": "58062692-e166-4374-be90-4d7968e24848"
      },
      "execution_count": null,
      "outputs": [
        {
          "output_type": "stream",
          "name": "stdout",
          "text": [
            "126144000\n"
          ]
        }
      ]
    },
    {
      "cell_type": "markdown",
      "source": [
        "**Debugging**\n",
        "\n",
        "One common error when working with variables is to accidentally introduce typos. For instance, if we spell hours_per_day as hours_per_dy, Python will error with message NameError: name 'hours_per_dy' is not defined.\n",
        "\n",
        "When you see NameError like this, it's an indication that you should check how you have spelled the variable that it references as \"not defined\". Then, to fix the error, you need only correct the spelling."
      ],
      "metadata": {
        "id": "VKH_EGk_DzFm"
      }
    },
    {
      "cell_type": "code",
      "source": [
        "print(hours_per_dy)"
      ],
      "metadata": {
        "colab": {
          "base_uri": "https://localhost:8080/",
          "height": 164
        },
        "id": "gRt6JYhWDz-F",
        "outputId": "2e41cd33-3cec-439e-d2b1-20d1803a7d6e"
      },
      "execution_count": null,
      "outputs": [
        {
          "output_type": "error",
          "ename": "NameError",
          "evalue": "ignored",
          "traceback": [
            "\u001b[0;31m---------------------------------------------------------------------------\u001b[0m",
            "\u001b[0;31mNameError\u001b[0m                                 Traceback (most recent call last)",
            "\u001b[0;32m<ipython-input-11-9c43394606fc>\u001b[0m in \u001b[0;36m<module>\u001b[0;34m\u001b[0m\n\u001b[0;32m----> 1\u001b[0;31m \u001b[0mprint\u001b[0m\u001b[0;34m(\u001b[0m\u001b[0mhours_per_dy\u001b[0m\u001b[0;34m)\u001b[0m\u001b[0;34m\u001b[0m\u001b[0;34m\u001b[0m\u001b[0m\n\u001b[0m",
            "\u001b[0;31mNameError\u001b[0m: name 'hours_per_dy' is not defined"
          ]
        }
      ]
    },
    {
      "cell_type": "markdown",
      "source": [
        "# **2. Functions**"
      ],
      "metadata": {
        "id": "M5E1zaDDHFKd"
      }
    },
    {
      "cell_type": "markdown",
      "source": [
        " A function is a block of code designed to perform a specific task"
      ],
      "metadata": {
        "id": "ccrtqw10HJeV"
      }
    },
    {
      "cell_type": "code",
      "source": [
        "# Define the function\n",
        "def add_three(input_var):\n",
        "  output_var = input_var + 3\n",
        "  return output_var"
      ],
      "metadata": {
        "id": "rbU049o-HW5A"
      },
      "execution_count": null,
      "outputs": []
    },
    {
      "cell_type": "markdown",
      "source": [
        "Every function is composed of two pieces: a header and body.\n",
        "\n",
        "\n",
        "**Header**\n",
        "The function header defines the name of the function and its argument(s).\n",
        "\n",
        "1. Every function header begins with def, which tells Python that we are about to define a function.\n",
        "\n",
        "2. In the example, the function name is add_three\n",
        "\n",
        "3. In the example, the function name is add_three.\n",
        "\n",
        "4. In the example, the argument is input_var. The argument is the name of the variable that will be used as input to the function. It is always enclosed in parentheses that apppear immediately after the name of the function. (Note that a function can also have no arguments, or it can have multiple arguments.)\n",
        "\n",
        "5. For every function, the parentheses enclosing the function argument(s) must be followed by a colon :.\n",
        "\n",
        "\n",
        "**Body**\n",
        "The function body specifies the work that the function does.\n",
        "\n",
        "1. Every line of code in the function body must be indented exactly four spaces. You can do this by pushing the space bar four times, or by hitting the \"Tab\" button once on your keyboard.\n",
        "\n",
        "2. The function does its work by running all of the indented lines from top to bottom.\n",
        "* It takes the argument as input, which in the example is input_var.\n",
        "* The function creates a new variable output_var with the calculation output_var = input_var + 3.\n",
        "* Then, the final line of code, called the return statement, just returns the value in output_var as the function's output."
      ],
      "metadata": {
        "id": "FWvw1KUQHyEY"
      }
    },
    {
      "cell_type": "markdown",
      "source": [
        "**How to run (or \"call\") a function**\n",
        "\n",
        "In more detail,\n",
        "\n",
        "add_three(10) is the value that we get as output when we supply 10 as the value for input_var and call the add_three() function. When the function runs, it runs all of the code in its body, from top to bottom:\n",
        "\n",
        "It first calculates output_var = input_var + 3, which sets output_var = 13.\n",
        "\n",
        "The final line of code is the return statement, which returns the value of output_var, which is 13.\n",
        "\n",
        "By setting new_number = add_three(10), we set new_number = 13."
      ],
      "metadata": {
        "id": "Y3Q1obX1JJZz"
      }
    },
    {
      "cell_type": "code",
      "source": [
        "# Run the function with 10 as input\n",
        "new_number = add_three(10)\n",
        "\n",
        "# Check that the value is 13, as expected\n",
        "print(new_number)"
      ],
      "metadata": {
        "colab": {
          "base_uri": "https://localhost:8080/"
        },
        "id": "uC7te5AEIscc",
        "outputId": "c3baecdf-1617-409b-f86c-14787d122b1d"
      },
      "execution_count": null,
      "outputs": [
        {
          "output_type": "stream",
          "name": "stdout",
          "text": [
            "13\n"
          ]
        }
      ]
    },
    {
      "cell_type": "markdown",
      "source": [
        "**Naming functions**\n",
        "\n",
        "When naming your own functions, you should use only lowercase letters, with words separated by underscores instead of spaces."
      ],
      "metadata": {
        "id": "MHG8Xm85BgOJ"
      }
    },
    {
      "cell_type": "markdown",
      "source": [
        "**A more complex example**\n",
        "\n",
        "Say you are helping a friend to calculate their weekly paycheck after taxes.\n",
        "\n",
        "They're in a 12% tax bracket (in other words, 12% of their salary is taken for taxes, and they only take home 88%), and\n",
        "\n",
        "They're paid hourly, at a rate of $15/hour."
      ],
      "metadata": {
        "id": "m2k7dcrwCii5"
      }
    },
    {
      "cell_type": "code",
      "source": [
        "def get_pay(num_hours):\n",
        "  # Pre-tax pay, based on receiving $15/hour\n",
        "  pay_pretax = num_hours * 15\n",
        "  # After-tax pay, based on being in 12% tax bracket\n",
        "  pay_aftertax = pay_pretax * .88\n",
        "  return pay_aftertax"
      ],
      "metadata": {
        "id": "n0VN-U3HBik_"
      },
      "execution_count": 9,
      "outputs": []
    },
    {
      "cell_type": "code",
      "source": [
        "# Calculate pay based on working 40 hours\n",
        "pay_fulltime = get_pay(40)\n",
        "print(pay_fulltime)"
      ],
      "metadata": {
        "colab": {
          "base_uri": "https://localhost:8080/"
        },
        "id": "0RyTo038Drby",
        "outputId": "7cd69b4e-0cac-491b-9faa-b05234e53eef"
      },
      "execution_count": 11,
      "outputs": [
        {
          "output_type": "stream",
          "name": "stdout",
          "text": [
            "528.0\n"
          ]
        }
      ]
    },
    {
      "cell_type": "code",
      "source": [
        "pay_parttime = get_pay(32)\n",
        "print(pay_parttime)"
      ],
      "metadata": {
        "colab": {
          "base_uri": "https://localhost:8080/"
        },
        "id": "d3bZmKVREfy-",
        "outputId": "7a4cd7a3-fc12-4809-d020-56e671c598d7"
      },
      "execution_count": 12,
      "outputs": [
        {
          "output_type": "stream",
          "name": "stdout",
          "text": [
            "422.4\n"
          ]
        }
      ]
    },
    {
      "cell_type": "markdown",
      "source": [
        "**Variable \"scope\"**\n",
        "\n",
        "Variables defined inside the function body cannot be accessed outside of the function. For instance, the next code cell errors, because pay_aftertax only exists inside the function."
      ],
      "metadata": {
        "id": "tHhJZH47E4JJ"
      }
    },
    {
      "cell_type": "code",
      "source": [
        "print(pay_aftertax)"
      ],
      "metadata": {
        "colab": {
          "base_uri": "https://localhost:8080/",
          "height": 164
        },
        "id": "DHG5yPltE6IZ",
        "outputId": "c3f43210-5fc3-44f3-b4fd-02c229c311df"
      },
      "execution_count": 13,
      "outputs": [
        {
          "output_type": "error",
          "ename": "NameError",
          "evalue": "ignored",
          "traceback": [
            "\u001b[0;31m---------------------------------------------------------------------------\u001b[0m",
            "\u001b[0;31mNameError\u001b[0m                                 Traceback (most recent call last)",
            "\u001b[0;32m<ipython-input-13-0dc6de9a0e5a>\u001b[0m in \u001b[0;36m<module>\u001b[0;34m\u001b[0m\n\u001b[0;32m----> 1\u001b[0;31m \u001b[0mprint\u001b[0m\u001b[0;34m(\u001b[0m\u001b[0mpay_aftertax\u001b[0m\u001b[0;34m)\u001b[0m\u001b[0;34m\u001b[0m\u001b[0;34m\u001b[0m\u001b[0m\n\u001b[0m",
            "\u001b[0;31mNameError\u001b[0m: name 'pay_aftertax' is not defined"
          ]
        }
      ]
    },
    {
      "cell_type": "markdown",
      "source": [
        "You will get the same error if you try to print pay_pretax or num_hours. For this reason, if you need any information from a function, you need to make sure that appears in the return statement at the end of the function.\n",
        "\n",
        "We refer to a variable's scope as the part of the code where it is accessible. Variables defined inside a function (like pay_aftertax) have a local scope of that function only. However, as you've seen, variables defined outside all functions (like pay_parttime) have a global scope and can be accessed anywhere."
      ],
      "metadata": {
        "id": "1y3KD76xFgB2"
      }
    },
    {
      "cell_type": "markdown",
      "source": [
        "**Functions with multiple arguments**"
      ],
      "metadata": {
        "id": "8JqOKwDKFrpi"
      }
    },
    {
      "cell_type": "code",
      "source": [
        "def get_pay_with_more_inputs(num_hours, hourly_wage, tax_bracket):\n",
        "    # Pre-tax pay\n",
        "    pay_pretax = num_hours * hourly_wage\n",
        "    # After-tax pay\n",
        "    pay_aftertax = pay_pretax * (1 - tax_bracket)\n",
        "    return pay_aftertax"
      ],
      "metadata": {
        "id": "UYbnjfREFhhP"
      },
      "execution_count": 14,
      "outputs": []
    },
    {
      "cell_type": "code",
      "source": [
        "higher_pay_aftertax = get_pay_with_more_inputs(40, 24, .22)\n",
        "print(higher_pay_aftertax)"
      ],
      "metadata": {
        "colab": {
          "base_uri": "https://localhost:8080/"
        },
        "id": "A8bOgHkaF-oV",
        "outputId": "cdc23c6b-553c-4325-c631-0be2d4d84ca3"
      },
      "execution_count": 15,
      "outputs": [
        {
          "output_type": "stream",
          "name": "stdout",
          "text": [
            "748.8000000000001\n"
          ]
        }
      ]
    },
    {
      "cell_type": "code",
      "source": [
        "same_pay_fulltime = get_pay_with_more_inputs(40, 15, .12)\n",
        "print(same_pay_fulltime)"
      ],
      "metadata": {
        "colab": {
          "base_uri": "https://localhost:8080/"
        },
        "id": "DxN74Zz2GCq8",
        "outputId": "76b97d17-24da-4bb3-9920-5d292c535a5f"
      },
      "execution_count": 16,
      "outputs": [
        {
          "output_type": "stream",
          "name": "stdout",
          "text": [
            "528.0\n"
          ]
        }
      ]
    },
    {
      "cell_type": "markdown",
      "source": [
        "Depending on how we plan to use this new function get_pay_with_more_inputs(), it can be more useful than the original function get_pay(), because it addresses more cases. Instead of potentially incorrectly assuming the hourly wage and tax bracket, the new function allows the user to specify the correct values. But, if you're sure the hourly wage and tax bracket won't need to change, the new function is just more complicated than necessary. In general, when defining functions, you'll need to consider how much flexibility you need, based on your use case."
      ],
      "metadata": {
        "id": "Q5fOCW1bGLFz"
      }
    },
    {
      "cell_type": "markdown",
      "source": [
        "**Functions with no arguments**\n",
        "\n",
        "It's possible to define function with no arguments, and that don't have a return statement. The print_hello() function in the code cell below is an example."
      ],
      "metadata": {
        "id": "JrAOB98iGMTN"
      }
    },
    {
      "cell_type": "code",
      "source": [
        "# Define the function with no arguments and with no return\n",
        "def print_hello():\n",
        "    print(\"Hello, you!\")\n",
        "    print(\"Good morning!\")\n",
        "    \n",
        "# Call the function\n",
        "print_hello()"
      ],
      "metadata": {
        "colab": {
          "base_uri": "https://localhost:8080/"
        },
        "id": "utM2fzI3GPcC",
        "outputId": "3820e54d-5878-46f4-9d4a-8efd336e9f1c"
      },
      "execution_count": 17,
      "outputs": [
        {
          "output_type": "stream",
          "name": "stdout",
          "text": [
            "Hello, you!\n",
            "Good morning!\n"
          ]
        }
      ]
    },
    {
      "cell_type": "markdown",
      "source": [
        "### **3. Data Types**\n",
        "\n",
        "Explore integers, floats, booleans, and strings.\n",
        "\n",
        "Data types are important, because they determine what kinds of actions you can do with them. For instance, you can divide two floats, but you cannot divide two strings. For instance, 12.0/2.0 makes sense, but \"cat\"/\"dog\" does not."
      ],
      "metadata": {
        "id": "ZCc-dPuvLxcs"
      }
    },
    {
      "cell_type": "markdown",
      "source": [
        "**Integers**\n",
        "Integers are numbers without any fractional part and can be positive (1, 2, 3, ...), negative (-1, -2, -3, ...), or zero (0)."
      ],
      "metadata": {
        "id": "2PLR0vouNVw-"
      }
    },
    {
      "cell_type": "code",
      "source": [
        "x = 14\n",
        "print(x)\n",
        "print(type(x))"
      ],
      "metadata": {
        "colab": {
          "base_uri": "https://localhost:8080/"
        },
        "id": "eApZwA5ILyQk",
        "outputId": "3d649b95-fbe2-480c-85d7-95b7ac280cb7"
      },
      "execution_count": 18,
      "outputs": [
        {
          "output_type": "stream",
          "name": "stdout",
          "text": [
            "14\n",
            "<class 'int'>\n"
          ]
        }
      ]
    },
    {
      "cell_type": "markdown",
      "source": [
        "**Floats**\n",
        "\n",
        "Floats are numbers with fractional parts. They can have many numbers after decimal."
      ],
      "metadata": {
        "id": "0XPJR90DODtL"
      }
    },
    {
      "cell_type": "code",
      "source": [
        "nearly_pi = 3.141592653589793238462643383279502884197169399375105820974944\n",
        "print(nearly_pi)\n",
        "print(type(nearly_pi))"
      ],
      "metadata": {
        "colab": {
          "base_uri": "https://localhost:8080/"
        },
        "id": "i2CXdkocOFgg",
        "outputId": "e12a28a0-92a7-4f27-9d2b-76a013559e47"
      },
      "execution_count": 19,
      "outputs": [
        {
          "output_type": "stream",
          "name": "stdout",
          "text": [
            "3.141592653589793\n",
            "<class 'float'>\n"
          ]
        }
      ]
    },
    {
      "cell_type": "code",
      "source": [
        "almost_pi = 22/7\n",
        "print(almost_pi)\n",
        "print(type(almost_pi))"
      ],
      "metadata": {
        "colab": {
          "base_uri": "https://localhost:8080/"
        },
        "id": "hrP0hlWiOPxR",
        "outputId": "a08caf02-8eea-4d95-cf88-03eb9652a06a"
      },
      "execution_count": 20,
      "outputs": [
        {
          "output_type": "stream",
          "name": "stdout",
          "text": [
            "3.142857142857143\n",
            "<class 'float'>\n"
          ]
        }
      ]
    },
    {
      "cell_type": "code",
      "source": [
        "# round() function is particularly useful for fractions. It lets you round a number to a specified number of decimal places.\n",
        "\n",
        "# Round to 5 decimal places\n",
        "rounded_pi = round(almost_pi, 5)\n",
        "print(rounded_pi)\n",
        "print(type(rounded_pi))"
      ],
      "metadata": {
        "colab": {
          "base_uri": "https://localhost:8080/"
        },
        "id": "kiUHwznjOXPa",
        "outputId": "35ee10eb-5c1f-4ccc-f56d-e91501e9995b"
      },
      "execution_count": 21,
      "outputs": [
        {
          "output_type": "stream",
          "name": "stdout",
          "text": [
            "3.14286\n",
            "<class 'float'>\n"
          ]
        }
      ]
    },
    {
      "cell_type": "code",
      "source": [
        "# Whenever you write an number with a decimal point, Python recognizes it as a float data type.\n",
        "#For instance, 1. (or 1.0, 1.00, etc) will be recognized as a float. This is the case, even though these numbers technically have no fractional part!\n",
        "\n",
        "y_float = 1.\n",
        "print(y_float)\n",
        "print(type(y_float))"
      ],
      "metadata": {
        "id": "tXTkPPuSOk7y"
      },
      "execution_count": null,
      "outputs": []
    },
    {
      "cell_type": "markdown",
      "source": [
        "**Booleans**\n",
        "\n",
        "Booleans represent one of two values: True or False. In the code cell below, z_one is set to a boolean with value True."
      ],
      "metadata": {
        "id": "Pw25HOjNOz1C"
      }
    },
    {
      "cell_type": "code",
      "source": [
        "z_one = True\n",
        "print(z_one)\n",
        "print(type(z_one))"
      ],
      "metadata": {
        "colab": {
          "base_uri": "https://localhost:8080/"
        },
        "id": "cdijpTnPO0-n",
        "outputId": "aca6feb6-a6e9-4071-8b55-7a09da29d5a3"
      },
      "execution_count": 22,
      "outputs": [
        {
          "output_type": "stream",
          "name": "stdout",
          "text": [
            "True\n",
            "<class 'bool'>\n"
          ]
        }
      ]
    },
    {
      "cell_type": "code",
      "source": [
        "# Booleans are used to represent the truth value of an expression. Since 1 < 2 is a true statement, z_three takes on a value of True.\n",
        "\n",
        "z_three = (1 < 2)\n",
        "print(z_three)\n",
        "print(type(z_three))"
      ],
      "metadata": {
        "colab": {
          "base_uri": "https://localhost:8080/"
        },
        "id": "oKA7d63wPGMI",
        "outputId": "325dc7d1-a024-445c-efd2-bb7e4383edbe"
      },
      "execution_count": 23,
      "outputs": [
        {
          "output_type": "stream",
          "name": "stdout",
          "text": [
            "True\n",
            "<class 'bool'>\n"
          ]
        }
      ]
    },
    {
      "cell_type": "code",
      "source": [
        "# Since 5 < 3 is a false statement, z_four takes on a value of False.\n",
        "\n",
        "z_four = (5 < 3)\n",
        "print(z_four)\n",
        "print(type(z_four))"
      ],
      "metadata": {
        "colab": {
          "base_uri": "https://localhost:8080/"
        },
        "id": "d-TosP12PMvs",
        "outputId": "6278015b-d824-4cbc-f2cb-1511773ff01b"
      },
      "execution_count": 24,
      "outputs": [
        {
          "output_type": "stream",
          "name": "stdout",
          "text": [
            "False\n",
            "<class 'bool'>\n"
          ]
        }
      ]
    },
    {
      "cell_type": "code",
      "source": [
        "# We can switch the value of a boolean by using not. So, not True is equivalent to False, and not False becomes True.\n",
        "\n",
        "z_five = not z_four\n",
        "print(z_five)\n",
        "print(type(z_five))"
      ],
      "metadata": {
        "colab": {
          "base_uri": "https://localhost:8080/"
        },
        "id": "Iyk9RNF-PU30",
        "outputId": "9c6c3e5a-7f2e-4f00-86a6-9778540b793e"
      },
      "execution_count": 25,
      "outputs": [
        {
          "output_type": "stream",
          "name": "stdout",
          "text": [
            "True\n",
            "<class 'bool'>\n"
          ]
        }
      ]
    },
    {
      "cell_type": "markdown",
      "source": [
        "**Strings**\n",
        "\n",
        "The string data type is a collection of characters (like alphabet letters, punctuation, numerical digits, or symbols) contained in quotation marks. Strings are commonly used to represent text."
      ],
      "metadata": {
        "id": "kgk-TwpVPpG3"
      }
    },
    {
      "cell_type": "code",
      "source": [
        "w = \"Hello, Python!\"\n",
        "print(w)\n",
        "print(type(w))"
      ],
      "metadata": {
        "colab": {
          "base_uri": "https://localhost:8080/"
        },
        "id": "oOPxDu3GPqQk",
        "outputId": "614539a2-4fc3-46a9-f440-612e585fdb21"
      },
      "execution_count": 26,
      "outputs": [
        {
          "output_type": "stream",
          "name": "stdout",
          "text": [
            "Hello, Python!\n",
            "<class 'str'>\n"
          ]
        }
      ]
    },
    {
      "cell_type": "code",
      "source": [
        "# Length of the String.\n",
        "print(len(w))"
      ],
      "metadata": {
        "colab": {
          "base_uri": "https://localhost:8080/"
        },
        "id": "vPY8u6nYP4SQ",
        "outputId": "8c6695cd-ac5d-4653-db74-26fe12e649a4"
      },
      "execution_count": 27,
      "outputs": [
        {
          "output_type": "stream",
          "name": "stdout",
          "text": [
            "14\n"
          ]
        }
      ]
    },
    {
      "cell_type": "code",
      "source": [
        "# Empty string, which has length zero.\n",
        "shortest_string = \"\"\n",
        "print(type(shortest_string))\n",
        "print(len(shortest_string))"
      ],
      "metadata": {
        "colab": {
          "base_uri": "https://localhost:8080/"
        },
        "id": "a-EBwx7EQAIa",
        "outputId": "98757bfc-ee2d-4a60-f321-3824edc834e3"
      },
      "execution_count": 28,
      "outputs": [
        {
          "output_type": "stream",
          "name": "stdout",
          "text": [
            "<class 'str'>\n",
            "0\n"
          ]
        }
      ]
    },
    {
      "cell_type": "code",
      "source": [
        "# If you put a number in quotation marks, it has a string data type.\n",
        "\n",
        "my_number = \"1.12321\"\n",
        "print(my_number)\n",
        "print(type(my_number))"
      ],
      "metadata": {
        "colab": {
          "base_uri": "https://localhost:8080/"
        },
        "id": "hU_VZyjAQMt9",
        "outputId": "be792982-1f48-4b72-d927-97b561bb9bd9"
      },
      "execution_count": 29,
      "outputs": [
        {
          "output_type": "stream",
          "name": "stdout",
          "text": [
            "1.12321\n",
            "<class 'str'>\n"
          ]
        }
      ]
    },
    {
      "cell_type": "code",
      "source": [
        "# If we have a string that is convertible to a float, we can use float().\n",
        "\n",
        "# This won't always work! For instance, we can convert \"10.43430\" and \"3\" to floats, but we cannot convert \"Hello, Python!\" to a float.\n",
        "\n",
        "also_my_number = float(my_number)\n",
        "print(also_my_number)\n",
        "print(type(also_my_number))"
      ],
      "metadata": {
        "colab": {
          "base_uri": "https://localhost:8080/"
        },
        "id": "V-VU4U-lQbIv",
        "outputId": "dae13c36-2895-4597-9882-db6b7aac41ed"
      },
      "execution_count": 31,
      "outputs": [
        {
          "output_type": "stream",
          "name": "stdout",
          "text": [
            "1.12321\n",
            "<class 'float'>\n"
          ]
        }
      ]
    },
    {
      "cell_type": "code",
      "source": [
        "# Just like you can add two numbers (floats or integers), you can also add two strings. \n",
        "#It results in a longer string that combines the two original strings by concatenating them.\n",
        "\n",
        "new_string = \"abc\" + \"def\"\n",
        "print(new_string)\n",
        "print(type(new_string))"
      ],
      "metadata": {
        "colab": {
          "base_uri": "https://localhost:8080/"
        },
        "id": "8io8S-k6QxOG",
        "outputId": "fbefec60-58e1-429f-9550-d09e832b3915"
      },
      "execution_count": 32,
      "outputs": [
        {
          "output_type": "stream",
          "name": "stdout",
          "text": [
            "abcdef\n",
            "<class 'str'>\n"
          ]
        }
      ]
    },
    {
      "cell_type": "code",
      "source": [
        "# It's not possible to do subtraction or division with two strings. \n",
        "# You also can't multiply two strings, but you can multiply a string by an integer. \n",
        "# This again results in a string that's just the original string concatenated with itself a specified number of times.\n",
        "\n",
        "newest_string = \"abc\" * 3\n",
        "print(newest_string)\n",
        "print(type(newest_string))"
      ],
      "metadata": {
        "colab": {
          "base_uri": "https://localhost:8080/"
        },
        "id": "RaoWTU3JQ5Yt",
        "outputId": "d59ea53b-62a6-4946-930a-9062830a64d9"
      },
      "execution_count": 33,
      "outputs": [
        {
          "output_type": "stream",
          "name": "stdout",
          "text": [
            "abcabcabc\n",
            "<class 'str'>\n"
          ]
        }
      ]
    },
    {
      "cell_type": "code",
      "source": [
        "# Note that you cannot multiply a string by a float! Trying to do so will return an error.\n",
        "\n",
        "will_not_work = \"abc\" * 3."
      ],
      "metadata": {
        "colab": {
          "base_uri": "https://localhost:8080/",
          "height": 198
        },
        "id": "gUR04bEARFVH",
        "outputId": "f3c13a40-cbe3-4819-ebde-58042fbadca0"
      },
      "execution_count": 34,
      "outputs": [
        {
          "output_type": "error",
          "ename": "TypeError",
          "evalue": "ignored",
          "traceback": [
            "\u001b[0;31m---------------------------------------------------------------------------\u001b[0m",
            "\u001b[0;31mTypeError\u001b[0m                                 Traceback (most recent call last)",
            "\u001b[0;32m<ipython-input-34-3afc88137087>\u001b[0m in \u001b[0;36m<module>\u001b[0;34m\u001b[0m\n\u001b[1;32m      1\u001b[0m \u001b[0;31m# Note that you cannot multiply a string by a float! Trying to do so will return an error.\u001b[0m\u001b[0;34m\u001b[0m\u001b[0;34m\u001b[0m\u001b[0;34m\u001b[0m\u001b[0m\n\u001b[1;32m      2\u001b[0m \u001b[0;34m\u001b[0m\u001b[0m\n\u001b[0;32m----> 3\u001b[0;31m \u001b[0mwill_not_work\u001b[0m \u001b[0;34m=\u001b[0m \u001b[0;34m\"abc\"\u001b[0m \u001b[0;34m*\u001b[0m \u001b[0;36m3.\u001b[0m\u001b[0;34m\u001b[0m\u001b[0;34m\u001b[0m\u001b[0m\n\u001b[0m",
            "\u001b[0;31mTypeError\u001b[0m: can't multiply sequence by non-int of type 'float'"
          ]
        }
      ]
    },
    {
      "cell_type": "markdown",
      "source": [
        "### **4. Conditions and Conditional Statements**"
      ],
      "metadata": {
        "id": "7_ouhxTmaEI3"
      }
    },
    {
      "cell_type": "markdown",
      "source": [
        "**Conditions**\n",
        "\n",
        "In programming, conditions are statements that are either True or False. "
      ],
      "metadata": {
        "id": "bVo26oEPXG5y"
      }
    },
    {
      "cell_type": "code",
      "source": [
        "#You can also use conditions to compare the values of variables. \n",
        "\n",
        "var_one = 1\n",
        "var_two = 2\n",
        "\n",
        "print(var_one < 1)\n",
        "print(var_two >= var_one)"
      ],
      "metadata": {
        "colab": {
          "base_uri": "https://localhost:8080/"
        },
        "id": "YnsMyxHyaGYS",
        "outputId": "54c18672-3e07-4027-8d4c-007b5d337400"
      },
      "execution_count": 1,
      "outputs": [
        {
          "output_type": "stream",
          "name": "stdout",
          "text": [
            "False\n",
            "True\n"
          ]
        }
      ]
    },
    {
      "cell_type": "markdown",
      "source": [
        "Important Note: When you check two values are equal, make sure you use the == sign, and not the = sign.\n",
        "\n",
        "var_one==1 checks if the value of var_one is 1, \n",
        "but var_one=1 sets the value of var_one to 1."
      ],
      "metadata": {
        "id": "9F47vZjtY8og"
      }
    },
    {
      "cell_type": "markdown",
      "source": [
        "**Conditional statements**\n",
        "\n",
        "Conditional statements use conditions to modify how your function runs. They check the value of a condition, and if the condition evaluates to True, then a certain block of code is executed. (Otherwise, if the condition is False, then the code is not run.)"
      ],
      "metadata": {
        "id": "oNMWoFroZD1D"
      }
    },
    {
      "cell_type": "markdown",
      "source": [
        "**\"if\" statements**"
      ],
      "metadata": {
        "id": "q2WOBccoZjx4"
      }
    },
    {
      "cell_type": "code",
      "source": [
        "def evaluate_temp(temp):\n",
        "    # Set an initial message\n",
        "    message = \"Normal temperature.\"\n",
        "    # Update value of message only if temperature greater than 38\n",
        "    if temp > 38:\n",
        "        message = \"Fever!\"\n",
        "    return message"
      ],
      "metadata": {
        "id": "xRdwHwkUYpKX"
      },
      "execution_count": 2,
      "outputs": []
    },
    {
      "cell_type": "code",
      "source": [
        "print(evaluate_temp(37))"
      ],
      "metadata": {
        "colab": {
          "base_uri": "https://localhost:8080/"
        },
        "id": "Oj2kd124Z4kB",
        "outputId": "fd88898e-c863-4bea-8b4e-5547a5d9c444"
      },
      "execution_count": 3,
      "outputs": [
        {
          "output_type": "stream",
          "name": "stdout",
          "text": [
            "Normal temperature.\n"
          ]
        }
      ]
    },
    {
      "cell_type": "code",
      "source": [
        "print(evaluate_temp(39))"
      ],
      "metadata": {
        "colab": {
          "base_uri": "https://localhost:8080/"
        },
        "id": "5nQIoEYQZ5YK",
        "outputId": "b333eb43-5dc6-4d6c-aa06-ccf257c251fb"
      },
      "execution_count": 5,
      "outputs": [
        {
          "output_type": "stream",
          "name": "stdout",
          "text": [
            "Fever!\n"
          ]
        }
      ]
    },
    {
      "cell_type": "markdown",
      "source": [
        "**\"if ... else\" statements**\n",
        "\n",
        "We can use \"else\" statements to run code if a statement is False. The code under the \"if\" statement is run if the statement is True, and the code under \"else\" is run if the statement is False."
      ],
      "metadata": {
        "id": "sSswDy_kaMUu"
      }
    },
    {
      "cell_type": "code",
      "source": [
        "def evaluate_temp_with_else(temp):\n",
        "    if temp > 38:\n",
        "        message = \"Fever!\"\n",
        "    else:\n",
        "        message = \"Normal temperature.\"\n",
        "    return message"
      ],
      "metadata": {
        "id": "vo8Yi3S-aNqs"
      },
      "execution_count": 6,
      "outputs": []
    },
    {
      "cell_type": "code",
      "source": [
        "print(evaluate_temp_with_else(37))"
      ],
      "metadata": {
        "colab": {
          "base_uri": "https://localhost:8080/"
        },
        "id": "ecOcLB6mahBu",
        "outputId": "efcf922f-f9be-4dfb-8c08-5a29ecbe0bb2"
      },
      "execution_count": 7,
      "outputs": [
        {
          "output_type": "stream",
          "name": "stdout",
          "text": [
            "Normal temperature.\n"
          ]
        }
      ]
    },
    {
      "cell_type": "markdown",
      "source": [
        "**\"if ... elif ... else\" statements**\n",
        "\n",
        "We can use \"elif\" (which is short for \"else if\") to check if multiple conditions might be true."
      ],
      "metadata": {
        "id": "Xu1421a2amgu"
      }
    },
    {
      "cell_type": "code",
      "source": [
        "def evaluate_temp_with_elif(temp):\n",
        "    if temp > 38:\n",
        "        message = \"Fever!\"\n",
        "    elif temp > 35:\n",
        "        message = \"Normal temperature.\"\n",
        "    else:\n",
        "        message = \"Low temperature.\"\n",
        "    return message"
      ],
      "metadata": {
        "id": "3hIpEqEjaoKG"
      },
      "execution_count": 8,
      "outputs": []
    },
    {
      "cell_type": "code",
      "source": [
        "evaluate_temp_with_elif(36)"
      ],
      "metadata": {
        "colab": {
          "base_uri": "https://localhost:8080/",
          "height": 37
        },
        "id": "DHDQ8Ml3ax5L",
        "outputId": "09a69153-9b51-450b-b6b3-4796b0c39649"
      },
      "execution_count": 9,
      "outputs": [
        {
          "output_type": "execute_result",
          "data": {
            "text/plain": [
              "'Normal temperature.'"
            ],
            "application/vnd.google.colaboratory.intrinsic+json": {
              "type": "string"
            }
          },
          "metadata": {},
          "execution_count": 9
        }
      ]
    },
    {
      "cell_type": "code",
      "source": [
        "evaluate_temp_with_elif(34)"
      ],
      "metadata": {
        "colab": {
          "base_uri": "https://localhost:8080/",
          "height": 37
        },
        "id": "QVDYz4bka7aU",
        "outputId": "ef21e92b-d885-4db4-d3a5-22c6263b125c"
      },
      "execution_count": 10,
      "outputs": [
        {
          "output_type": "execute_result",
          "data": {
            "text/plain": [
              "'Low temperature.'"
            ],
            "application/vnd.google.colaboratory.intrinsic+json": {
              "type": "string"
            }
          },
          "metadata": {},
          "execution_count": 10
        }
      ]
    },
    {
      "cell_type": "markdown",
      "source": [
        "**Example - Calculations**\n",
        "\n",
        "We can also use conditional statements to perform different calculations.\n",
        "\n"
      ],
      "metadata": {
        "id": "JBS_uAhlbGct"
      }
    },
    {
      "cell_type": "code",
      "source": [
        "def get_taxes(earnings):\n",
        "    if earnings < 12000:\n",
        "        tax_owed = .25 * earnings\n",
        "    else:\n",
        "        tax_owed = .30 * earnings\n",
        "    return tax_owed"
      ],
      "metadata": {
        "id": "sh9rM02IbDyY"
      },
      "execution_count": 11,
      "outputs": []
    },
    {
      "cell_type": "code",
      "source": [
        "ana_taxes = get_taxes(9000)\n",
        "bob_taxes = get_taxes(15000)\n",
        "\n",
        "print(ana_taxes)\n",
        "print(bob_taxes)"
      ],
      "metadata": {
        "colab": {
          "base_uri": "https://localhost:8080/"
        },
        "id": "67a-QtumbPH3",
        "outputId": "fc122946-5038-42f6-ea41-e7cd78ba7f31"
      },
      "execution_count": 12,
      "outputs": [
        {
          "output_type": "stream",
          "name": "stdout",
          "text": [
            "2250.0\n",
            "4500.0\n"
          ]
        }
      ]
    },
    {
      "cell_type": "code",
      "source": [
        "# It accepts a number as input and adds three if the input is less than 10, and otherwise adds eight. \n",
        "\n",
        "def add_three_or_eight(num):\n",
        "  if num < 10:\n",
        "    result = num + 3\n",
        "  else:\n",
        "    result = num + 8\n",
        "  return result"
      ],
      "metadata": {
        "id": "lWHMJVb1bcuF"
      },
      "execution_count": 13,
      "outputs": []
    },
    {
      "cell_type": "markdown",
      "source": [
        "**Example - Multiple \"elif\" statements**"
      ],
      "metadata": {
        "id": "h5gFY9e_b7E4"
      }
    },
    {
      "cell_type": "code",
      "source": [
        "def get_dose(weight):\n",
        "    # Dosage is 1.25 ml for anyone under 5.2 kg\n",
        "    if weight < 5.2:\n",
        "        dose = 1.25\n",
        "    elif weight < 7.9:\n",
        "        dose = 2.5\n",
        "    elif weight < 10.4:\n",
        "        dose = 3.75\n",
        "    elif weight < 15.9:\n",
        "        dose = 5\n",
        "    elif weight < 21.2:\n",
        "        dose = 7.5\n",
        "    # Dosage is 10 ml for anyone 21.2 kg or over\n",
        "    else:\n",
        "        dose = 10\n",
        "    return dose"
      ],
      "metadata": {
        "id": "LBMgnnRMb8Ln"
      },
      "execution_count": 14,
      "outputs": []
    },
    {
      "cell_type": "code",
      "source": [
        "print(get_dose(12))"
      ],
      "metadata": {
        "colab": {
          "base_uri": "https://localhost:8080/"
        },
        "id": "lBqDkSKScA1n",
        "outputId": "0b8593cf-382f-448e-8a47-ff3142e02ae2"
      },
      "execution_count": 15,
      "outputs": [
        {
          "output_type": "stream",
          "name": "stdout",
          "text": [
            "5\n"
          ]
        }
      ]
    }
  ]
}
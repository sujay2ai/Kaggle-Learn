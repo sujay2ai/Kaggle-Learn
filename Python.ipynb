{
  "nbformat": 4,
  "nbformat_minor": 0,
  "metadata": {
    "colab": {
      "provenance": [],
      "authorship_tag": "ABX9TyMrY714cPWU7032QbaypgOj",
      "include_colab_link": true
    },
    "kernelspec": {
      "name": "python3",
      "display_name": "Python 3"
    },
    "language_info": {
      "name": "python"
    }
  },
  "cells": [
    {
      "cell_type": "markdown",
      "metadata": {
        "id": "view-in-github",
        "colab_type": "text"
      },
      "source": [
        "<a href=\"https://colab.research.google.com/github/VitikaJain25/Kaggle-Learn/blob/main/Python.ipynb\" target=\"_parent\"><img src=\"https://colab.research.google.com/assets/colab-badge.svg\" alt=\"Open In Colab\"/></a>"
      ]
    },
    {
      "cell_type": "markdown",
      "source": [
        "# **1. Arithmetic and Variables**"
      ],
      "metadata": {
        "id": "N1zdb9sTvN2D"
      }
    },
    {
      "cell_type": "markdown",
      "source": [
        "**Printing**"
      ],
      "metadata": {
        "id": "QFowB8cyA7WC"
      }
    },
    {
      "cell_type": "code",
      "execution_count": 2,
      "metadata": {
        "colab": {
          "base_uri": "https://localhost:8080/"
        },
        "id": "oUVxijXFuyH-",
        "outputId": "062ce6fd-a09c-48ce-b555-8f5c8c7d1146"
      },
      "outputs": [
        {
          "output_type": "stream",
          "name": "stdout",
          "text": [
            "Hello, World..!!\n"
          ]
        }
      ],
      "source": [
        "print(\"Hello, World..!!\")"
      ]
    },
    {
      "cell_type": "markdown",
      "source": [
        "**Arithmetic**"
      ],
      "metadata": {
        "id": "722wEf--BID6"
      }
    },
    {
      "cell_type": "code",
      "source": [
        "print(1+2)"
      ],
      "metadata": {
        "colab": {
          "base_uri": "https://localhost:8080/"
        },
        "id": "nQFjP6yLBJbI",
        "outputId": "346228d7-9c78-4fa4-d0d3-96932738f213"
      },
      "execution_count": 3,
      "outputs": [
        {
          "output_type": "stream",
          "name": "stdout",
          "text": [
            "3\n"
          ]
        }
      ]
    },
    {
      "cell_type": "code",
      "source": [
        "print(((1 + 3) * (9 - 2) / 2) ** 2)"
      ],
      "metadata": {
        "colab": {
          "base_uri": "https://localhost:8080/"
        },
        "id": "sJ-KkSpiBTfO",
        "outputId": "da256616-6756-42e0-9681-5840a1b70136"
      },
      "execution_count": 4,
      "outputs": [
        {
          "output_type": "stream",
          "name": "stdout",
          "text": [
            "196.0\n"
          ]
        }
      ]
    },
    {
      "cell_type": "markdown",
      "source": [
        "**Comments**"
      ],
      "metadata": {
        "id": "d72PdQeABWy4"
      }
    },
    {
      "cell_type": "code",
      "source": [
        "# Multiply 3 by 2\n",
        "print(3 * 2)"
      ],
      "metadata": {
        "colab": {
          "base_uri": "https://localhost:8080/"
        },
        "id": "vwcFdyGIBXsN",
        "outputId": "937cdb39-ba42-4729-9305-44573c1ff941"
      },
      "execution_count": 5,
      "outputs": [
        {
          "output_type": "stream",
          "name": "stdout",
          "text": [
            "6\n"
          ]
        }
      ]
    },
    {
      "cell_type": "markdown",
      "source": [
        "**Variables**\n",
        "Variable names are ideally short and descriptive. They also need to satisfy several requirements:\n",
        "\n",
        "*   They can't have spaces (e.g., test var is not allowed)\n",
        "*   They can only include letters, numbers, and underscores (e.g., test_var! is not allowed)\n",
        "*   They have to start with a letter or underscore (e.g., 1_var is not allowed)\n",
        "\n",
        "\n",
        "\n",
        "\n"
      ],
      "metadata": {
        "id": "vV_w7k-SBhXR"
      }
    },
    {
      "cell_type": "code",
      "source": [
        "# Create a variable called test_var and give it a value of 4+5\n",
        "test_var = 4 + 5\n",
        "\n",
        "# Print the value of test_var\n",
        "print(test_var)"
      ],
      "metadata": {
        "colab": {
          "base_uri": "https://localhost:8080/"
        },
        "id": "-c29PwoUBh_6",
        "outputId": "fa4f6f55-cc77-4f7e-ebb2-e8c729d041d9"
      },
      "execution_count": 6,
      "outputs": [
        {
          "output_type": "stream",
          "name": "stdout",
          "text": [
            "9\n"
          ]
        }
      ]
    },
    {
      "cell_type": "markdown",
      "source": [
        "**Manipulating variables**"
      ],
      "metadata": {
        "id": "_Cr6zVKrCZik"
      }
    },
    {
      "cell_type": "code",
      "source": [
        "# Set the value of a new variable to 3\n",
        "new_var = 3\n",
        "\n",
        "# Print the value assigned to my_var\n",
        "print(new_var)\n",
        "\n",
        "# Change the value of the variable to 100\n",
        "new_var = 100\n",
        "\n",
        "# Print the new value assigned to my_var\n",
        "print(new_var)"
      ],
      "metadata": {
        "colab": {
          "base_uri": "https://localhost:8080/"
        },
        "id": "aL9xGFv9CcAB",
        "outputId": "0a925ec7-e355-44e2-a7e3-b31fd4de723d"
      },
      "execution_count": 7,
      "outputs": [
        {
          "output_type": "stream",
          "name": "stdout",
          "text": [
            "3\n",
            "100\n"
          ]
        }
      ]
    },
    {
      "cell_type": "code",
      "source": [
        "# Increase the value by 3\n",
        "new_var = new_var + 3\n",
        "\n",
        "# Print the value assigned to my_var\n",
        "print(new_var)"
      ],
      "metadata": {
        "colab": {
          "base_uri": "https://localhost:8080/"
        },
        "id": "muzK0pe3DV5F",
        "outputId": "a09d4104-58e6-4cfb-dad8-7d6ae7cb80c2"
      },
      "execution_count": 9,
      "outputs": [
        {
          "output_type": "stream",
          "name": "stdout",
          "text": [
            "103\n"
          ]
        }
      ]
    },
    {
      "cell_type": "markdown",
      "source": [
        "**Using multiple variables**"
      ],
      "metadata": {
        "id": "XpR1e9csDbaS"
      }
    },
    {
      "cell_type": "code",
      "source": [
        "# Create variables\n",
        "num_years = 4\n",
        "days_per_year = 365 \n",
        "hours_per_day = 24\n",
        "mins_per_hour = 60\n",
        "secs_per_min = 60\n",
        "\n",
        "# Calculate number of seconds in four years\n",
        "total_secs = secs_per_min * mins_per_hour * hours_per_day * days_per_year * num_years\n",
        "print(total_secs)"
      ],
      "metadata": {
        "colab": {
          "base_uri": "https://localhost:8080/"
        },
        "id": "sCj08LoWDcqP",
        "outputId": "58062692-e166-4374-be90-4d7968e24848"
      },
      "execution_count": 10,
      "outputs": [
        {
          "output_type": "stream",
          "name": "stdout",
          "text": [
            "126144000\n"
          ]
        }
      ]
    },
    {
      "cell_type": "markdown",
      "source": [
        "**Debugging**\n",
        "\n",
        "One common error when working with variables is to accidentally introduce typos. For instance, if we spell hours_per_day as hours_per_dy, Python will error with message NameError: name 'hours_per_dy' is not defined.\n",
        "\n",
        "When you see NameError like this, it's an indication that you should check how you have spelled the variable that it references as \"not defined\". Then, to fix the error, you need only correct the spelling."
      ],
      "metadata": {
        "id": "VKH_EGk_DzFm"
      }
    },
    {
      "cell_type": "code",
      "source": [
        "print(hours_per_dy)"
      ],
      "metadata": {
        "colab": {
          "base_uri": "https://localhost:8080/",
          "height": 164
        },
        "id": "gRt6JYhWDz-F",
        "outputId": "2e41cd33-3cec-439e-d2b1-20d1803a7d6e"
      },
      "execution_count": 11,
      "outputs": [
        {
          "output_type": "error",
          "ename": "NameError",
          "evalue": "ignored",
          "traceback": [
            "\u001b[0;31m---------------------------------------------------------------------------\u001b[0m",
            "\u001b[0;31mNameError\u001b[0m                                 Traceback (most recent call last)",
            "\u001b[0;32m<ipython-input-11-9c43394606fc>\u001b[0m in \u001b[0;36m<module>\u001b[0;34m\u001b[0m\n\u001b[0;32m----> 1\u001b[0;31m \u001b[0mprint\u001b[0m\u001b[0;34m(\u001b[0m\u001b[0mhours_per_dy\u001b[0m\u001b[0;34m)\u001b[0m\u001b[0;34m\u001b[0m\u001b[0;34m\u001b[0m\u001b[0m\n\u001b[0m",
            "\u001b[0;31mNameError\u001b[0m: name 'hours_per_dy' is not defined"
          ]
        }
      ]
    },
    {
      "cell_type": "markdown",
      "source": [
        "# **2. Functions**"
      ],
      "metadata": {
        "id": "M5E1zaDDHFKd"
      }
    },
    {
      "cell_type": "markdown",
      "source": [
        " A function is a block of code designed to perform a specific task"
      ],
      "metadata": {
        "id": "ccrtqw10HJeV"
      }
    },
    {
      "cell_type": "code",
      "source": [
        "# Define the function\n",
        "def add_three(input_var):\n",
        "  output_var = input_var + 3\n",
        "  return output_var"
      ],
      "metadata": {
        "id": "rbU049o-HW5A"
      },
      "execution_count": 12,
      "outputs": []
    },
    {
      "cell_type": "markdown",
      "source": [
        "Every function is composed of two pieces: a header and body.\n",
        "\n",
        "\n",
        "**Header**\n",
        "The function header defines the name of the function and its argument(s).\n",
        "\n",
        "1. Every function header begins with def, which tells Python that we are about to define a function.\n",
        "\n",
        "2. In the example, the function name is add_three\n",
        "\n",
        "3. In the example, the function name is add_three.\n",
        "\n",
        "4. In the example, the argument is input_var. The argument is the name of the variable that will be used as input to the function. It is always enclosed in parentheses that apppear immediately after the name of the function. (Note that a function can also have no arguments, or it can have multiple arguments.)\n",
        "\n",
        "5. For every function, the parentheses enclosing the function argument(s) must be followed by a colon :.\n",
        "\n",
        "\n",
        "**Body**\n",
        "The function body specifies the work that the function does.\n",
        "\n",
        "1. Every line of code in the function body must be indented exactly four spaces. You can do this by pushing the space bar four times, or by hitting the \"Tab\" button once on your keyboard.\n",
        "\n",
        "2. The function does its work by running all of the indented lines from top to bottom.\n",
        "* It takes the argument as input, which in the example is input_var.\n",
        "* The function creates a new variable output_var with the calculation output_var = input_var + 3.\n",
        "* Then, the final line of code, called the return statement, just returns the value in output_var as the function's output."
      ],
      "metadata": {
        "id": "FWvw1KUQHyEY"
      }
    },
    {
      "cell_type": "markdown",
      "source": [
        "**How to run (or \"call\") a function**"
      ],
      "metadata": {
        "id": "Y3Q1obX1JJZz"
      }
    },
    {
      "cell_type": "code",
      "source": [
        "# Run the function with 10 as input\n",
        "new_number = add_three(10)\n",
        "\n",
        "# Check that the value is 13, as expected\n",
        "print(new_number)"
      ],
      "metadata": {
        "colab": {
          "base_uri": "https://localhost:8080/"
        },
        "id": "uC7te5AEIscc",
        "outputId": "c3baecdf-1617-409b-f86c-14787d122b1d"
      },
      "execution_count": 13,
      "outputs": [
        {
          "output_type": "stream",
          "name": "stdout",
          "text": [
            "13\n"
          ]
        }
      ]
    }
  ]
}